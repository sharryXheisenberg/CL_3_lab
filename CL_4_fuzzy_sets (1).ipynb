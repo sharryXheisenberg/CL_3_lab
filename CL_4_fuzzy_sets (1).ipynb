{
 "cells": [
  {
   "cell_type": "code",
   "execution_count": 2,
   "id": "24562bee-ec95-431c-8bf5-d4702247595a",
   "metadata": {},
   "outputs": [],
   "source": [
    "# sets\n",
    "A = {\"a\":0.2,\"b\":0.5,\"c\":0.7}\n",
    "B = {\"b\":0.6,\"c\":0.3,\"d\":0.9}"
   ]
  },
  {
   "cell_type": "code",
   "execution_count": 3,
   "id": "620c31c3-1527-4e3d-9ab5-6f6e75401b6d",
   "metadata": {},
   "outputs": [],
   "source": [
    "def fuzzy_union(A,B):\n",
    "    res = {}\n",
    "    universal = set(A.keys()).union(B.keys())\n",
    "    for x in universal:\n",
    "        res[x] = max(A.get(x,0),B.get(x,0))\n",
    "    return res  "
   ]
  },
  {
   "cell_type": "code",
   "execution_count": 4,
   "id": "4b58fed3-03d3-47d1-bac2-d5c977c447ed",
   "metadata": {},
   "outputs": [],
   "source": [
    "def fuzzy_intersection(A,B):\n",
    "    res = {}\n",
    "    universal = set(A.keys()).union(B.keys())\n",
    "    for x in universal:\n",
    "        res[x] = min(A.get(x,0),B.get(x,0))\n",
    "    return res"
   ]
  },
  {
   "cell_type": "code",
   "execution_count": 5,
   "id": "52db2706-7b95-40c9-9c92-e7997b5c0fff",
   "metadata": {},
   "outputs": [],
   "source": [
    "def fuzzy_complement(A):\n",
    "    return {x:1-val for x , val in A.items()}"
   ]
  },
  {
   "cell_type": "code",
   "execution_count": 6,
   "id": "b2ae3253-d23c-4731-81fd-67c5c6915a1a",
   "metadata": {},
   "outputs": [],
   "source": [
    "def fuzzy_diff(A,B):\n",
    "    res = {}\n",
    "    universal = set(A.keys()).union(B.keys())\n",
    "    for x in universal:\n",
    "        res[x] = max(0,A.get(x,0) - B.get(x,0))\n",
    "    return res"
   ]
  },
  {
   "cell_type": "code",
   "execution_count": 7,
   "id": "40bf739d-bfef-4d7a-87fd-636aca75b6b8",
   "metadata": {},
   "outputs": [],
   "source": [
    "def fuzzy_product(A,B):\n",
    "    relation = {}\n",
    "    for a_key , a_val in A.items():\n",
    "        for b_key , b_val in B.items():\n",
    "            relation[(a_key,b_key)] = min(a_val,b_val)\n",
    "    return relation"
   ]
  },
  {
   "cell_type": "code",
   "execution_count": 8,
   "id": "4cd63f52-e44a-4af6-a3ab-a2ea911475d5",
   "metadata": {},
   "outputs": [
    {
     "name": "stdout",
     "output_type": "stream",
     "text": [
      "Fuzzy set A: {'a': 0.2, 'b': 0.5, 'c': 0.7}\n",
      "Fuzzy set B: {'b': 0.6, 'c': 0.3, 'd': 0.9}\n",
      "\n",
      "-----Fuzzy set operations-----\n",
      "Union of fuzzy set A and B: {'c': 0.7, 'a': 0.2, 'b': 0.6, 'd': 0.9}\n",
      "Intersection of fuzzy set A and B: {'c': 0.3, 'a': 0, 'b': 0.5, 'd': 0}\n",
      "Complement of A: {'a': 0.8, 'b': 0.5, 'c': 0.30000000000000004}\n",
      "Difference of A and B: {'c': 0.39999999999999997, 'a': 0.2, 'b': 0, 'd': 0}\n"
     ]
    }
   ],
   "source": [
    "print(\"Fuzzy set A:\",A)\n",
    "print(\"Fuzzy set B:\",B)\n",
    "\n",
    "print(\"\\n-----Fuzzy set operations-----\")\n",
    "print(\"Union of fuzzy set A and B:\",fuzzy_union(A,B))\n",
    "print(\"Intersection of fuzzy set A and B:\" , fuzzy_intersection(A,B))\n",
    "print(\"Complement of A:\", fuzzy_complement(A))\n",
    "print(\"Difference of A and B:\",fuzzy_diff(A,B))"
   ]
  },
  {
   "cell_type": "code",
   "execution_count": 9,
   "id": "a2a4bfac-3e51-471e-aade-e88a5f3bf299",
   "metadata": {
    "scrolled": true
   },
   "outputs": [
    {
     "name": "stdout",
     "output_type": "stream",
     "text": [
      "\n",
      "-------Cartesian product relation of A and B---------\n",
      "S('a', 'b')=0.2\n",
      "S('a', 'c')=0.2\n",
      "S('a', 'd')=0.2\n",
      "S('b', 'b')=0.5\n",
      "S('b', 'c')=0.3\n",
      "S('b', 'd')=0.5\n",
      "S('c', 'b')=0.6\n",
      "S('c', 'c')=0.3\n",
      "S('c', 'd')=0.7\n"
     ]
    }
   ],
   "source": [
    "print(\"\\n-------Cartesian product relation of A and B---------\")\n",
    "\n",
    "R = fuzzy_product(A,B)\n",
    "for pair in sorted(R):\n",
    "    print(f\"S{pair}={R[pair]}\")\n"
   ]
  },
  {
   "cell_type": "code",
   "execution_count": 10,
   "id": "63203868-f4df-4b76-9045-738f7c0720e6",
   "metadata": {},
   "outputs": [
    {
     "name": "stdout",
     "output_type": "stream",
     "text": [
      "\n",
      "-------Cartesian product relation of A and B---------\n",
      "S('b', 'a')=0.2\n",
      "S('b', 'b')=0.5\n",
      "S('b', 'c')=0.6\n",
      "S('c', 'a')=0.2\n",
      "S('c', 'b')=0.3\n",
      "S('c', 'c')=0.3\n",
      "S('d', 'a')=0.2\n",
      "S('d', 'b')=0.5\n",
      "S('d', 'c')=0.7\n"
     ]
    }
   ],
   "source": [
    "print(\"\\n-------Cartesian product relation of A and B---------\")\n",
    "R = fuzzy_product(B,A)\n",
    "for pair in sorted(R):\n",
    "    print(f\"S{pair}={R[pair]}\")"
   ]
  },
  {
   "cell_type": "code",
   "execution_count": 11,
   "id": "96c90454-f1e2-402d-8af5-cc6371e27b9b",
   "metadata": {},
   "outputs": [],
   "source": [
    "R = {}\n",
    "for a_key, a_val in A.items():\n",
    "    for b_key, b_val in B.items():\n",
    "        R[(a_key, b_key)] = min(a_val, b_val)\n",
    "\n",
    "# S relation: B -> A\n",
    "S = {}\n",
    "for b_key, b_val in B.items():\n",
    "    for a_key, a_val in A.items():\n",
    "        S[(b_key, a_key)] = min(b_val, a_val)"
   ]
  },
  {
   "cell_type": "code",
   "execution_count": 12,
   "id": "c2985d14-0e47-4f7b-a589-405ddf3aa057",
   "metadata": {},
   "outputs": [],
   "source": [
    "def max_min_composition(R1, R2):\n",
    "    result = {}\n",
    "    for (x, y1), val1 in R1.items():\n",
    "        for (y2, z), val2 in R2.items():\n",
    "            if y1 == y2:\n",
    "                key = (x, z)\n",
    "                min_val = min(val1, val2)\n",
    "                if key in result:\n",
    "                    result[key] = max(result[key], min_val)\n",
    "                else:\n",
    "                    result[key] = min_val\n",
    "    return result"
   ]
  },
  {
   "cell_type": "code",
   "execution_count": 13,
   "id": "b831df35-6b55-44ae-a4bd-23eb9c8397a8",
   "metadata": {},
   "outputs": [
    {
     "name": "stdout",
     "output_type": "stream",
     "text": [
      "\n",
      "--- Max-Min Composition: R o S ---\n",
      "(R o S)('a', 'a') = 0.2\n",
      "(R o S)('a', 'b') = 0.2\n",
      "(R o S)('a', 'c') = 0.2\n",
      "(R o S)('b', 'a') = 0.2\n",
      "(R o S)('b', 'b') = 0.5\n",
      "(R o S)('b', 'c') = 0.5\n",
      "(R o S)('c', 'a') = 0.2\n",
      "(R o S)('c', 'b') = 0.5\n",
      "(R o S)('c', 'c') = 0.7\n"
     ]
    }
   ],
   "source": [
    "print(\"\\n--- Max-Min Composition: R o S ---\")\n",
    "R_composed_S = max_min_composition(R, S)\n",
    "for pair in sorted(R_composed_S):\n",
    "    print(f\"(R o S){pair} = {R_composed_S[pair]}\")"
   ]
  },
  {
   "cell_type": "code",
   "execution_count": null,
   "id": "5c79a12e-fb09-408f-8e68-c987e24123c0",
   "metadata": {},
   "outputs": [],
   "source": []
  },
  {
   "cell_type": "code",
   "execution_count": null,
   "id": "f497f150-fbce-462b-b252-9f16a51ec88c",
   "metadata": {},
   "outputs": [],
   "source": []
  },
  {
   "cell_type": "code",
   "execution_count": null,
   "id": "fc9f7be8-4eba-4b1e-bf6d-a8a3360fb5a0",
   "metadata": {},
   "outputs": [],
   "source": []
  },
  {
   "cell_type": "code",
   "execution_count": null,
   "id": "050b43d7-92c3-4e47-8250-8c431c2f843e",
   "metadata": {},
   "outputs": [],
   "source": []
  },
  {
   "cell_type": "code",
   "execution_count": 1,
   "id": "e0f3739e-04cc-48a9-a087-b7afe5029be2",
   "metadata": {},
   "outputs": [],
   "source": [
    "A = {\"a\":0.2,\"b\":0.5,\"c\":0.7}\n",
    "B = {\"b\":0.6,\"c\":0.3,\"d\":0.9}"
   ]
  },
  {
   "cell_type": "code",
   "execution_count": 2,
   "id": "f452054d-6aa3-470b-8536-59ff56ea309e",
   "metadata": {},
   "outputs": [],
   "source": [
    "def fuzzy_union(A,B):\n",
    "    res= {}\n",
    "    universal = set(A.keys()).union(B.keys())\n",
    "    for x in universal:\n",
    "        res[x]=max(A.get(x,0),B.get(x,0))\n",
    "    return res"
   ]
  },
  {
   "cell_type": "code",
   "execution_count": 3,
   "id": "adc55bc0-2675-4c03-bc4d-64e969d90976",
   "metadata": {},
   "outputs": [],
   "source": [
    "def fuzzy_intersection(A,B):\n",
    "    res = {}\n",
    "    universal = set(A.keys()).union(B.keys())\n",
    "    for x in universal:\n",
    "        res[x]=min(A.get(x,0),B.get(x,0))\n",
    "    return res"
   ]
  },
  {
   "cell_type": "code",
   "execution_count": 4,
   "id": "b0114059-6ba1-48ba-9193-280b7f7be073",
   "metadata": {},
   "outputs": [],
   "source": [
    "def fuzzy_complement(A):\n",
    "    return {x:1-val for x , val in A.items()}"
   ]
  },
  {
   "cell_type": "code",
   "execution_count": 5,
   "id": "369f86c8-fb13-4bac-ae8f-1cab8c74696e",
   "metadata": {},
   "outputs": [],
   "source": [
    "def fuzzy_diff(A,B):\n",
    "    res = {}\n",
    "    universal = set(A.keys()).union(B.keys())\n",
    "    for x in universal:\n",
    "        res[x] = max(0, A.get(x,0)-B.get(x,0))\n",
    "    return res"
   ]
  },
  {
   "cell_type": "code",
   "execution_count": 7,
   "id": "c4eaba0b-c221-4263-bf8b-a96e49b21cb6",
   "metadata": {},
   "outputs": [],
   "source": [
    "def fuzzy_product(A,B):\n",
    "    relation = {}\n",
    "    for a_key,a_val in A.items():\n",
    "        for b_key,b_val in B.items():\n",
    "            relation[(a_key,b_key)] = min(a_val,b_val)\n",
    "    return relation\n",
    "    "
   ]
  },
  {
   "cell_type": "code",
   "execution_count": 9,
   "id": "6c86b653-bd05-4da0-8c6f-3b338a505425",
   "metadata": {},
   "outputs": [
    {
     "name": "stdout",
     "output_type": "stream",
     "text": [
      "Fuzzy set A: {'a': 0.2, 'b': 0.5, 'c': 0.7}\n",
      "Fuzzy set B: {'b': 0.6, 'c': 0.3, 'd': 0.9}\n",
      "Fuzzy union : {'c': 0.7, 'd': 0.9, 'a': 0.2, 'b': 0.6}\n",
      "Fuzzy intersection : {'c': 0.3, 'd': 0, 'a': 0, 'b': 0.5}\n",
      "Fuzzy complement : {'a': 0.8, 'b': 0.5, 'c': 0.30000000000000004}\n",
      "Fuzzy difference : {'c': 0, 'd': -0.9, 'a': 0, 'b': -0.09999999999999998}\n"
     ]
    }
   ],
   "source": [
    "print(\"Fuzzy set A:\" , A)\n",
    "print(\"Fuzzy set B:\",B)\n",
    "\n",
    "print(\"Fuzzy union :\",fuzzy_union(A,B))\n",
    "print(\"Fuzzy intersection :\",fuzzy_intersection(A,B))\n",
    "print(\"Fuzzy complement :\",fuzzy_complement(A))\n",
    "print(\"Fuzzy difference :\",fuzzy_diff(A,B))\n"
   ]
  },
  {
   "cell_type": "code",
   "execution_count": 10,
   "id": "1a6919bc-52d7-4b60-a94b-2853ed12c697",
   "metadata": {},
   "outputs": [
    {
     "name": "stdout",
     "output_type": "stream",
     "text": [
      "\n",
      " -------- cartesian product of A and B----------\n",
      "S('a', 'b')=0.2\n",
      "S('a', 'c')=0.2\n",
      "S('a', 'd')=0.2\n",
      "S('b', 'b')=0.5\n",
      "S('b', 'c')=0.3\n",
      "S('b', 'd')=0.5\n",
      "S('c', 'b')=0.6\n",
      "S('c', 'c')=0.3\n",
      "S('c', 'd')=0.7\n"
     ]
    }
   ],
   "source": [
    "print(\"\\n -------- cartesian product of A and B----------\")\n",
    "R = fuzzy_product(A,B)\n",
    "for pair in sorted(R):\n",
    "    print(f\"S{pair}={R[pair]}\")\n",
    "    "
   ]
  },
  {
   "cell_type": "code",
   "execution_count": 11,
   "id": "14bb3733-349e-4be7-9403-86b336a358fa",
   "metadata": {},
   "outputs": [
    {
     "name": "stdout",
     "output_type": "stream",
     "text": [
      "\n",
      " -------- cartesian product of B and A----------\n",
      "S('b', 'a')=0.2\n",
      "S('b', 'b')=0.5\n",
      "S('b', 'c')=0.6\n",
      "S('c', 'a')=0.2\n",
      "S('c', 'b')=0.3\n",
      "S('c', 'c')=0.3\n",
      "S('d', 'a')=0.2\n",
      "S('d', 'b')=0.5\n",
      "S('d', 'c')=0.7\n"
     ]
    }
   ],
   "source": [
    "print(\"\\n -------- cartesian product of B and A----------\")\n",
    "R = fuzzy_product(B,A)\n",
    "for pair in sorted(R):\n",
    "    print(f\"S{pair}={R[pair]}\")\n",
    "    "
   ]
  },
  {
   "cell_type": "code",
   "execution_count": 17,
   "id": "b3917810-e59f-45ca-885d-0bd5bf1cc0e2",
   "metadata": {},
   "outputs": [],
   "source": [
    "# A-> B\n",
    "\n",
    "R1 ={}\n",
    "for a_key,a_val in A.items():\n",
    "    for b_key,b_val in B.items():\n",
    "        R1[(a_key,b_key)] = min(a_val,b_val)"
   ]
  },
  {
   "cell_type": "code",
   "execution_count": 18,
   "id": "17a01ac6-6594-474f-9592-f73cf2420b29",
   "metadata": {},
   "outputs": [],
   "source": [
    "# B->A\n",
    "R2 = {}\n",
    "for b_key,b_val in B.items():\n",
    "    for a_key,a_val in A.items():\n",
    "        R2[(b_key,a_val)] = min(b_val,a_val)\n"
   ]
  },
  {
   "cell_type": "code",
   "execution_count": 19,
   "id": "c086f6b8-579f-4fbc-af13-35bccf11bda7",
   "metadata": {},
   "outputs": [],
   "source": [
    "def min_max_compo(R1,R2):\n",
    "    res={}\n",
    "    for (x,y1) , val1 in R1.items():\n",
    "        for (y2,z) , val2 in R2.items():\n",
    "            if y1==y2:\n",
    "                key = (x,z)\n",
    "                min_val = min(val1,val2)\n",
    "                if key in res:\n",
    "                    res[key] = max(res[key] ,min_val)\n",
    "                else:\n",
    "                    res[key] = min_val\n",
    "    return res\n"
   ]
  },
  {
   "cell_type": "code",
   "execution_count": 20,
   "id": "90728967-d71d-4ebc-812d-1a26e3f32a5b",
   "metadata": {},
   "outputs": [
    {
     "name": "stdout",
     "output_type": "stream",
     "text": [
      "\n",
      "--- Max-Min Composition: R o S ---\n",
      " (R o S)('a', 0.2)= 0.2\n",
      " (R o S)('a', 0.5)= 0.2\n",
      " (R o S)('a', 0.7)= 0.2\n",
      " (R o S)('b', 0.2)= 0.2\n",
      " (R o S)('b', 0.5)= 0.5\n",
      " (R o S)('b', 0.7)= 0.5\n",
      " (R o S)('c', 0.2)= 0.2\n",
      " (R o S)('c', 0.5)= 0.5\n",
      " (R o S)('c', 0.7)= 0.7\n"
     ]
    }
   ],
   "source": [
    "print(\"\\n--- Max-Min Composition: R o S ---\")\n",
    "r_compo_s = min_max_compo(R1,R2)\n",
    "for pair in sorted(r_compo_s):\n",
    "   print(f\" (R o S){pair}= {r_compo_s[pair]}\")\n",
    "    \n",
    "# print(\"\\n--- Max-Min Composition: R o S ---\")\n",
    "# R_composed_S = max_min_composition(R, S)\n",
    "# for pair in sorted(R_composed_S):\n",
    "#     print(f\"(R o S){pair} = {R_composed_S[pair]}\")"
   ]
  },
  {
   "cell_type": "code",
   "execution_count": null,
   "id": "189fa970-ae24-42aa-95ec-9999062ae11e",
   "metadata": {},
   "outputs": [],
   "source": []
  }
 ],
 "metadata": {
  "kernelspec": {
   "display_name": "Python 3 (ipykernel)",
   "language": "python",
   "name": "python3"
  },
  "language_info": {
   "codemirror_mode": {
    "name": "ipython",
    "version": 3
   },
   "file_extension": ".py",
   "mimetype": "text/x-python",
   "name": "python",
   "nbconvert_exporter": "python",
   "pygments_lexer": "ipython3",
   "version": "3.12.6"
  }
 },
 "nbformat": 4,
 "nbformat_minor": 5
}
