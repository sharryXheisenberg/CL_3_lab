{
 "cells": [
  {
   "cell_type": "code",
   "execution_count": 4,
   "metadata": {
    "id": "uowy24MIs2BD"
   },
   "outputs": [],
   "source": [
    "import numpy as np\n",
    "import random\n",
    "import matplotlib.pyplot as plt"
   ]
  },
  {
   "cell_type": "code",
   "execution_count": 22,
   "metadata": {
    "id": "AKSX_rPus6GS"
   },
   "outputs": [],
   "source": [
    "# ----- Step 1: Define the TSP Problem -----\n",
    "# Coordinates of cities\n",
    "cities = np.array([[00, 0], [1, 5], [5, 2], [6, 6], [8, 3], [2, 1], [7, 7], [3, 8]])\n",
    "num_cities = len(cities)"
   ]
  },
  {
   "cell_type": "code",
   "execution_count": 23,
   "metadata": {
    "id": "KmEMvX50tHhZ"
   },
   "outputs": [],
   "source": [
    "# Distance matrix\n",
    "distance_matrix = np.linalg.norm(cities[:, np.newaxis] - cities[np.newaxis, :], axis=2)"
   ]
  },
  {
   "cell_type": "code",
   "execution_count": 24,
   "metadata": {
    "id": "z0z4FufztTpR"
   },
   "outputs": [],
   "source": [
    "# ----- Step 2: Initialize Parameters -----\n",
    "num_ants = 10\n",
    "alpha = 1 # Pheromone importance\n",
    "beta = 5 # Distance importance\n",
    "evaporation_rate = 0.5\n",
    "pheromone_deposit = 100\n",
    "pheromone_init = 1\n",
    "max_iter = 100\n",
    "\n",
    "pheromone_matrix = np.ones((num_cities, num_cities)) * pheromone_init\n",
    "\n",
    "best_length = float('inf')\n",
    "best_path = []\n",
    "\n"
   ]
  },
  {
   "cell_type": "code",
   "execution_count": 25,
   "metadata": {
    "id": "FT3ip7o5tX0n"
   },
   "outputs": [],
   "source": [
    "# ----- Step 3–7: Main ACO Loop -----\n",
    "for iteration in range(max_iter):\n",
    "  all_paths = []\n",
    "  all_lengths = []"
   ]
  },
  {
   "cell_type": "code",
   "execution_count": 26,
   "metadata": {
    "id": "LtUcWFPEu7Tz"
   },
   "outputs": [],
   "source": [
    "for ant in range(num_ants):\n",
    "    visited = [random.randint(0, num_cities - 1)]\n",
    "    unvisited = list(set(range(num_cities)) - set(visited))"
   ]
  },
  {
   "cell_type": "code",
   "execution_count": 27,
   "metadata": {
    "id": "8pLpNmN8u__C"
   },
   "outputs": [],
   "source": [
    "while unvisited:\n",
    "    current = visited[-1]\n",
    "    probabilities = []\n",
    "    for city in unvisited:\n",
    "        pheromone = pheromone_matrix[current][city] ** alpha\n",
    "        visibility = (1 / distance_matrix[current][city]) ** beta\n",
    "        probabilities.append(pheromone * visibility)\n",
    "\n",
    "    # Normalization should be done OUTSIDE of the city loop\n",
    "    probabilities = probabilities / np.sum(probabilities) if np.sum(probabilities) != 0 else np.ones_like(probabilities) / len(probabilities)  # Handle zero sum\n",
    "\n",
    "    # City selection should also be done OUTSIDE of the city loop\n",
    "    next_city = random.choices(unvisited, weights=probabilities)[0]\n",
    "    visited.append(next_city)\n",
    "    unvisited.remove(next_city)\n",
    "\n",
    "# Return to start AFTER visiting all cities\n",
    "visited.append(visited[0])\n",
    "length = sum(distance_matrix[visited[i]][visited[i + 1]] for i in range(num_cities))\n",
    "all_paths.append(visited)\n",
    "all_lengths.append(length)\n",
    "\n",
    "if length < best_length:\n",
    "    best_length = length\n",
    "    best_path = visited"
   ]
  },
  {
   "cell_type": "code",
   "execution_count": 31,
   "metadata": {
    "colab": {
     "base_uri": "https://localhost:8080/"
    },
    "id": "gJ95hMAbtw7W",
    "outputId": "aa775e12-9694-4f40-9d6d-24713908e58c"
   },
   "outputs": [
    {
     "name": "stdout",
     "output_type": "stream",
     "text": [
      "Iteration 100: Best Length = 31.37\n"
     ]
    }
   ],
   "source": [
    "# ----- Step 4–6: Update Pheromones -----\n",
    "pheromone_matrix *= (1 - evaporation_rate)\n",
    "\n",
    "for path, length in zip(all_paths, all_lengths):\n",
    "  for i in range(num_cities):\n",
    "    a, b = path[i], path[i + 1]\n",
    "    pheromone_matrix[a][b] += pheromone_deposit / length\n",
    "    pheromone_matrix[b][a] += pheromone_deposit / length\n",
    "\n",
    "print(f\"Iteration {iteration + 1}: Best Length = {best_length:.2f}\")\n"
   ]
  },
  {
   "cell_type": "code",
   "execution_count": 33,
   "metadata": {
    "colab": {
     "base_uri": "https://localhost:8080/"
    },
    "id": "ZE329Di1uIEi",
    "outputId": "09dc011c-0311-4523-c78f-7843d05a2fae"
   },
   "outputs": [
    {
     "name": "stdout",
     "output_type": "stream",
     "text": [
      "\n",
      "Best path: [2, 5, 0, 1, 3, 6, 7, 4, 2]\n",
      "Shortest path length: 31.37\n"
     ]
    }
   ],
   "source": [
    "# ----- Step 8: Show Results -----\n",
    "print(\"\\nBest path:\", best_path)\n",
    "print(\"Shortest path length:\", round(best_length, 2))\n",
    "\n",
    "# # Visualization\n",
    "# x = [/cities[i][0] for i in best_path]\n",
    "# y = [cities[i][1] for i in best_path]\n",
    "\n",
    "# plt.figure(figsize=(8, 5))\n",
    "# plt.plot(x, y, marker='o')\n",
    "# for i, city in enumerate(best_path):\n",
    "#   plt.text(cities[city][0], cities[city][1], str(city), fontsize=12)\n",
    "#   plt.title(\"Best Path Found Using ACO\")\n",
    "#   plt.xlabel(\"X\")\n",
    "#   plt.ylabel(\"Y\")\n",
    "#   plt.grid(True)\n",
    "#   plt.show()"
   ]
  },
  {
   "cell_type": "code",
   "execution_count": null,
   "metadata": {
    "id": "3QOQtHw1xMXh"
   },
   "outputs": [],
   "source": []
  }
 ],
 "metadata": {
  "colab": {
   "provenance": []
  },
  "kernelspec": {
   "display_name": "Python 3 (ipykernel)",
   "language": "python",
   "name": "python3"
  },
  "language_info": {
   "codemirror_mode": {
    "name": "ipython",
    "version": 3
   },
   "file_extension": ".py",
   "mimetype": "text/x-python",
   "name": "python",
   "nbconvert_exporter": "python",
   "pygments_lexer": "ipython3",
   "version": "3.12.6"
  }
 },
 "nbformat": 4,
 "nbformat_minor": 4
}
