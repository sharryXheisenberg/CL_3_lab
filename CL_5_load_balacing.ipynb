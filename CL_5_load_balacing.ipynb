{
 "cells": [
  {
   "cell_type": "code",
   "execution_count": 1,
   "id": "ad002362-631e-4f2a-89ab-b62fbd5f4e93",
   "metadata": {},
   "outputs": [],
   "source": [
    "# Define the Server class\n",
    "class Server:\n",
    "    def __init__(self, name):\n",
    "        self.name = name\n",
    "        self.connections = 0  # Number of current connections\n",
    "\n",
    "    def handle_request(self, request):\n",
    "        self.connections += 1\n",
    "        print(f\"Server {self.name} handling request {request}. Load: {self.connections}\")\n",
    "\n",
    "    def release_request(self):\n",
    "        if self.connections > 0:\n",
    "            self.connections -= 1\n"
   ]
  },
  {
   "cell_type": "code",
   "execution_count": 2,
   "id": "54ec36dd-5592-4558-af8e-fc77f6804c9e",
   "metadata": {},
   "outputs": [],
   "source": [
    "# Define the LoadBalancer class\n",
    "class LoadBalancer:\n",
    "    def __init__(self, servers):\n",
    "        self.servers = servers\n",
    "        self.current_index = 0  # For Round Robin tracking\n",
    "\n",
    "    # Round Robin Algorithm\n",
    "    def round_robin(self, request):\n",
    "        server = self.servers[self.current_index]  # Pick current server\n",
    "        self.current_index = (self.current_index + 1) % len(self.servers)  # Move to next server\n",
    "        server.handle_request(request)  # Assign request to selected server\n",
    "\n",
    "    # Entry point to process requests\n",
    "    def process_request(self, request, method=\"round_robin\"):\n",
    "        if method == \"round_robin\":\n",
    "            self.round_robin(request)\n",
    "        else:\n",
    "            raise ValueError(\"Unsupported load balancing method\")\n"
   ]
  },
  {
   "cell_type": "code",
   "execution_count": 3,
   "id": "248dfea5-1bb7-44c5-a57e-9346dfd79e07",
   "metadata": {},
   "outputs": [
    {
     "name": "stdout",
     "output_type": "stream",
     "text": [
      "Server S1 handling request R1. Load: 1\n",
      "Server S2 handling request R2. Load: 1\n",
      "Server S3 handling request R3. Load: 1\n",
      "Server S1 handling request R4. Load: 2\n",
      "Server S2 handling request R5. Load: 2\n",
      "Server S3 handling request R6. Load: 2\n",
      "Server S1 handling request R7. Load: 3\n",
      "Server S2 handling request R8. Load: 3\n",
      "Server S3 handling request R9. Load: 3\n",
      "Server S1 handling request R10. Load: 4\n"
     ]
    }
   ],
   "source": [
    "# Main logic\n",
    "if __name__ == \"__main__\":\n",
    "    # Create list of servers\n",
    "    servers = [Server(f\"S{i+1}\") for i in range(3)]  # S1, S2, S3\n",
    "\n",
    "    # Create Load Balancer\n",
    "    lb = LoadBalancer(servers)\n",
    "\n",
    "    # Simulate 10 client requests\n",
    "    requests = [f\"R{i+1}\" for i in range(10)]  # R1 to R10\n",
    "\n",
    "    # Process each request using Round Robin\n",
    "    for req in requests:\n",
    "        lb.process_request(req, method=\"round_robin\")"
   ]
  },
  {
   "cell_type": "code",
   "execution_count": null,
   "id": "1e02a702-6913-4f3e-84ac-25ee9fb9a9d9",
   "metadata": {},
   "outputs": [],
   "source": []
  },
  {
   "cell_type": "code",
   "execution_count": null,
   "id": "13c32994-2546-40e0-9282-29c0b7d677a6",
   "metadata": {},
   "outputs": [],
   "source": []
  },
  {
   "cell_type": "code",
   "execution_count": null,
   "id": "98bc7ea5-9d3f-4b71-b50b-2b4e35e23ddd",
   "metadata": {},
   "outputs": [],
   "source": []
  },
  {
   "cell_type": "code",
   "execution_count": 16,
   "id": "421d4f19-1e1c-48cf-97b3-c232832a8ea6",
   "metadata": {},
   "outputs": [],
   "source": [
    "class Server:\n",
    "    def __init__ (self,name):\n",
    "        self.name = name\n",
    "        self.connections = 0 \n",
    "\n",
    "    def handle_request(self,request):\n",
    "        self.connections+=1\n",
    "        print(f\"Server {self.name} is hanlding this request {request} with load {self.connections}\")\n",
    "\n",
    "    def release_request(self):\n",
    "        if self.connections>0:\n",
    "            self.connections = -1\n"
   ]
  },
  {
   "cell_type": "code",
   "execution_count": 17,
   "id": "401c949d-264a-4045-94bc-dea5cd9a9d71",
   "metadata": {},
   "outputs": [],
   "source": [
    "class LoadBalancer:\n",
    "    def __init__ (self,servers):\n",
    "        self.servers = servers\n",
    "        self.current_index = 0\n",
    "\n",
    "    def round_robin(self,request):\n",
    "        server = self.servers[self.current_index]\n",
    "        self.current_index = (self.current_index + 1) % len(self.servers)\n",
    "        server.handle_request(request)\n",
    " \n",
    "    def process_request(self,request,method = \"round_robin\"):\n",
    "        if method == \"round_robin\":\n",
    "            self.round_robin(request)\n",
    "        else:\n",
    "            raise ValueError(\"Loadbalancing is not supported\")        "
   ]
  },
  {
   "cell_type": "code",
   "execution_count": 18,
   "id": "e736d7c6-49f0-4a4d-abbb-e4715728ed00",
   "metadata": {},
   "outputs": [
    {
     "name": "stdout",
     "output_type": "stream",
     "text": [
      "Server S1 is hanlding this request R1 with load 1\n",
      "Server S2 is hanlding this request R2 with load 1\n",
      "Server S3 is hanlding this request R3 with load 1\n",
      "Server S1 is hanlding this request R4 with load 2\n",
      "Server S2 is hanlding this request R5 with load 2\n",
      "Server S3 is hanlding this request R6 with load 2\n",
      "Server S1 is hanlding this request R7 with load 3\n",
      "Server S2 is hanlding this request R8 with load 3\n",
      "Server S3 is hanlding this request R9 with load 3\n",
      "Server S1 is hanlding this request R10 with load 4\n"
     ]
    }
   ],
   "source": [
    "if __name__ == \"__main__\":\n",
    "    servers = [Server(f\"S{i+1}\") for i in range(3)]\n",
    "    lb = LoadBalancer(servers)\n",
    "    requests = [f\"R{i+1}\" for i in range (10)]\n",
    "\n",
    "    for req in requests:\n",
    "        lb.process_request(req,method = \"round_robin\")"
   ]
  },
  {
   "cell_type": "code",
   "execution_count": 10,
   "id": "bd55c787-67fa-4301-aaf4-fe526f4829f0",
   "metadata": {},
   "outputs": [],
   "source": []
  },
  {
   "cell_type": "code",
   "execution_count": null,
   "id": "33f6189b-1910-4d06-9dfe-7969824513b0",
   "metadata": {},
   "outputs": [],
   "source": []
  },
  {
   "cell_type": "code",
   "execution_count": null,
   "id": "47873200-4aa2-4f81-96e5-b2c7693b393d",
   "metadata": {},
   "outputs": [],
   "source": []
  }
 ],
 "metadata": {
  "kernelspec": {
   "display_name": "Python 3 (ipykernel)",
   "language": "python",
   "name": "python3"
  },
  "language_info": {
   "codemirror_mode": {
    "name": "ipython",
    "version": 3
   },
   "file_extension": ".py",
   "mimetype": "text/x-python",
   "name": "python",
   "nbconvert_exporter": "python",
   "pygments_lexer": "ipython3",
   "version": "3.12.6"
  }
 },
 "nbformat": 4,
 "nbformat_minor": 5
}
