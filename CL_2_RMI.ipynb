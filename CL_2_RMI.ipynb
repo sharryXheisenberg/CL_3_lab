{
 "cells": [
  {
   "cell_type": "code",
   "execution_count": 1,
   "id": "ddcc9f24-54a7-48cd-84f9-175a107aefc7",
   "metadata": {},
   "outputs": [],
   "source": [
    "# Pyro 5 \n",
    "# server.py\n",
    "import Pyro5.api\n",
    "\n",
    "@Pyro5.api.expose\n",
    "class StringConcat:\n",
    "    def concatenate(self,str1,str2):\n",
    "        \"\"\"Concatenating two strings\"\"\"\n",
    "        return str1 + str2\n",
    "    \n",
    "def main():\n",
    "    daemon = Pyro5.api.Daemon()\n",
    "    ns = Pyro5.api.locate_ns() #locating the name server object\n",
    "    \n",
    "    server = StringConcat() # class object\n",
    "    \n",
    "    uri = daemon.register(server) # registering the uri object with daemon\n",
    "    ns.register(\"example.stringConcat\",uri)\n",
    "    \n",
    "    print(\"Server is running waiting for the client\")\n",
    "    daemon.requestLoop()\n",
    "    \n",
    "if __name__ == \"__main__\":\n",
    "    main()"
   ]
  },
  {
   "cell_type": "code",
   "execution_count": null,
   "id": "8b1dc6ed-6653-4434-8406-4595ff1317a8",
   "metadata": {},
   "outputs": [],
   "source": [
    "# client.py\n",
    "import Pyro5.api\n",
    "\n",
    "def main():\n",
    "    uri = \"PYRONAME:example.stringConcat\"\n",
    "    server = Pyro5.api.Proxy(uri)\n",
    "    \n",
    "    str1 = str(input(\"Enter the first string \"))\n",
    "    str2 = str(input(\"Enter the Second string \"))\n",
    "    \n",
    "    result = server.concatenate(str1,str2)\n",
    "    print(f\"Concatenated result of string {result}\")\n",
    "    \n",
    "if __name__ == \"__main__\":\n",
    "    main()\n",
    "    "
   ]
  },
  {
   "cell_type": "code",
   "execution_count": null,
   "id": "a66ff214-2ef6-447b-b547-5858b37c4c51",
   "metadata": {},
   "outputs": [],
   "source": [
    "# commands only for pyro5\n",
    "python -m Pyro5.nameserver \n",
    "python server.py\n",
    "python client.py"
   ]
  },
  {
   "cell_type": "code",
   "execution_count": null,
   "id": "4e1b4114-ea56-491f-9876-548ef0090229",
   "metadata": {},
   "outputs": [],
   "source": []
  },
  {
   "cell_type": "code",
   "execution_count": null,
   "id": "6ebd8d8a-cba2-4a61-8b4d-a0835580e290",
   "metadata": {},
   "outputs": [
    {
     "name": "stdout",
     "output_type": "stream",
     "text": [
      "Server is running n URI: PYRO:obj_796b5c50555546489ed79bb5dec14523@localhost:49969\n"
     ]
    }
   ],
   "source": [
    "#Pyro - 4\n",
    "#server.py\n",
    "import Pyro4\n",
    "@Pyro4.expose\n",
    "\n",
    "class StringConcat:\n",
    "    def concatenate(self,str1,str2):\n",
    "        return str1 + str2\n",
    "    \n",
    "    \n",
    "dameon = Pyro4.Daemon()\n",
    "uri = dameon.register(StringConcat)\n",
    "print(\"Server is running n URI:\",uri)\n",
    "dameon.requestLoop()"
   ]
  },
  {
   "cell_type": "code",
   "execution_count": null,
   "id": "1f4b4205-278a-432a-bf68-64972050f38f",
   "metadata": {},
   "outputs": [],
   "source": [
    "# clinet.py\n",
    "import Pyro4\n",
    "\n",
    "uri = print(\"enter thr uri object:\")\n",
    "concat = Pyro4.Proxy(uri)\n",
    "\n",
    "str1 = input(\"Enter the first string: \")\n",
    "str2  = input(\"Enter the second string: \")\n",
    "\n",
    "result = concat.concatenate(str1,str2)\n",
    "print(f\"The concatenated result is:{result}\")"
   ]
  }
 ],
 "metadata": {
  "kernelspec": {
   "display_name": "Python 3 (ipykernel)",
   "language": "python",
   "name": "python3"
  },
  "language_info": {
   "codemirror_mode": {
    "name": "ipython",
    "version": 3
   },
   "file_extension": ".py",
   "mimetype": "text/x-python",
   "name": "python",
   "nbconvert_exporter": "python",
   "pygments_lexer": "ipython3",
   "version": "3.12.6"
  }
 },
 "nbformat": 4,
 "nbformat_minor": 5
}
