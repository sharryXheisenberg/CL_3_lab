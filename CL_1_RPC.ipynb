{
 "cells": [
  {
   "cell_type": "code",
   "execution_count": null,
   "id": "2b5c26d1-856f-4f60-a932-02be76a8a7c4",
   "metadata": {},
   "outputs": [],
   "source": [
    "from xmlrpc.server import SimpleXMLRPCServer"
   ]
  },
  {
   "cell_type": "code",
   "execution_count": null,
   "id": "99245f5c-c953-4515-b296-8327bb0a833e",
   "metadata": {},
   "outputs": [],
   "source": [
    "def factorial(n):\n",
    "    if n==0 or n==1:\n",
    "        return 1\n",
    "    else:\n",
    "        return n*factorial(n-1)"
   ]
  },
  {
   "cell_type": "code",
   "execution_count": null,
   "id": "cc7782b0-b2ae-4ad1-a0e0-d90adcf8ff68",
   "metadata": {},
   "outputs": [],
   "source": [
    "# server.py\n",
    "\n",
    "server = SimpleXMLRPCServer((\"localhost\",8000))\n",
    "server.register_function(factorial,\"factorial\")\n",
    "server.serve_forever()\n"
   ]
  },
  {
   "cell_type": "code",
   "execution_count": null,
   "id": "debd1428-cd8b-4577-b7f9-21535c629f6a",
   "metadata": {},
   "outputs": [],
   "source": [
    "#client.py\n",
    "\n",
    "import xmlrpc.client\n",
    "\n",
    "server = xmlrpc.client.ServerProxy(\"http://localhost:8000\")\n",
    "num = int(input(\"Enter number to calculate factorial\"))\n",
    "\n",
    "result = server.factorial(num)\n",
    "\n",
    "print(f\"The factorial of {num} is {result}\")"
   ]
  }
 ],
 "metadata": {
  "kernelspec": {
   "display_name": "Python 3 (ipykernel)",
   "language": "python",
   "name": "python3"
  },
  "language_info": {
   "codemirror_mode": {
    "name": "ipython",
    "version": 3
   },
   "file_extension": ".py",
   "mimetype": "text/x-python",
   "name": "python",
   "nbconvert_exporter": "python",
   "pygments_lexer": "ipython3",
   "version": "3.12.6"
  }
 },
 "nbformat": 4,
 "nbformat_minor": 5
}
