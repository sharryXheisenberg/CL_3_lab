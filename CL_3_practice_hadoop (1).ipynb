{
 "cells": [
  {
   "cell_type": "code",
   "execution_count": 1,
   "id": "58ec3669-82de-4db5-85c1-f078d35afcdd",
   "metadata": {},
   "outputs": [],
   "source": [
    "# character counting from a given text file in hadoop\n"
   ]
  },
  {
   "cell_type": "code",
   "execution_count": 2,
   "id": "a32dfe52-139d-421a-b7ba-8e879efae630",
   "metadata": {},
   "outputs": [],
   "source": [
    "#mapper.py\n",
    "\n",
    "#!/usr/bin/env python3\n",
    "import sys\n",
    "\n",
    "for line in sys.stdin:\n",
    "    for char in line.lower():\n",
    "        if char.isalpha():\n",
    "            print(f\"{char}\\t\")\n",
    "            "
   ]
  },
  {
   "cell_type": "code",
   "execution_count": 5,
   "id": "a21203f5-add8-4782-a662-2079170c02be",
   "metadata": {},
   "outputs": [],
   "source": [
    "# reducer.py\n",
    "\n",
    "#!/usr/bin/python 3\n",
    "\n",
    "import sys\n",
    "\n",
    "current_char = None\n",
    "current_count = 0 \n",
    "\n",
    "for line in sys.stdin:\n",
    "    char,count = line.strip().split('\\t')\n",
    "    count = int(count)\n",
    "\n",
    "    if char == current_char:\n",
    "        current_count+=count\n",
    "    else:\n",
    "        if current_char:\n",
    "            print(f\"{current_char}\\t{current_count}\")\n",
    "        current_char = char\n",
    "        current_count = count\n",
    "\n",
    "#print the last character\n",
    "if current_char:\n",
    "    print(f\"{current_char}\\t{current_count}\")"
   ]
  },
  {
   "cell_type": "code",
   "execution_count": 6,
   "id": "f7bb1c4e-1dcd-4133-bb73-9c0d6201ee35",
   "metadata": {},
   "outputs": [],
   "source": [
    "# counting each word from a given text file"
   ]
  },
  {
   "cell_type": "code",
   "execution_count": 9,
   "id": "4da56dda-3284-4617-b2b7-bc65e18869a9",
   "metadata": {},
   "outputs": [],
   "source": [
    "#mapper.py\n",
    "#!/usr/bin/env/python 3\n",
    "import sys\n",
    "\n",
    "for line in sys.stdin:\n",
    "    words = line.strip().split()\n",
    "    for word in words:\n",
    "        print(f\"{word}\\t\")"
   ]
  },
  {
   "cell_type": "code",
   "execution_count": 12,
   "id": "1fc0c325-5325-4ea0-827d-b833db7f13e0",
   "metadata": {},
   "outputs": [],
   "source": [
    "#reducer.py\n",
    "\n",
    "import sys\n",
    "\n",
    "current_word = None\n",
    "current_count = 0\n",
    "\n",
    "for line in sys.stdin:\n",
    "    word,count = line.strip().split('\\t')\n",
    "    count= int(count)\n",
    "\n",
    "    if word == current_word:\n",
    "        current_count+=count\n",
    "\n",
    "    else:\n",
    "        if current_word:\n",
    "            print(f\"{current_word}\\t{current_count}\")\n",
    "        current_word = word\n",
    "        current_count = count\n",
    "\n",
    "# last word\n",
    "if current_word:\n",
    "    print(f\"{current_word}\\t{current_count}\")\n",
    "    "
   ]
  },
  {
   "cell_type": "code",
   "execution_count": null,
   "id": "fdae49ee-be57-4776-a508-ff95a508fda6",
   "metadata": {},
   "outputs": [],
   "source": []
  }
 ],
 "metadata": {
  "kernelspec": {
   "display_name": "Python 3 (ipykernel)",
   "language": "python",
   "name": "python3"
  },
  "language_info": {
   "codemirror_mode": {
    "name": "ipython",
    "version": 3
   },
   "file_extension": ".py",
   "mimetype": "text/x-python",
   "name": "python",
   "nbconvert_exporter": "python",
   "pygments_lexer": "ipython3",
   "version": "3.12.6"
  }
 },
 "nbformat": 4,
 "nbformat_minor": 5
}
